{
 "cells": [
  {
   "cell_type": "code",
   "execution_count": 56,
   "metadata": {},
   "outputs": [],
   "source": [
    "import tensorflow as tf\n",
    "import os\n",
    "import random\n",
    "import numpy as np\n",
    "from tensorflow.keras.layers import Dense, Flatten, Conv1D,Dropout\n",
    "from tensorflow.keras import Model\n",
    "from tensorflow import keras"
   ]
  },
  {
   "cell_type": "code",
   "execution_count": 57,
   "metadata": {
    "pycharm": {
     "name": "#%%\n"
    }
   },
   "outputs": [],
   "source": [
    "class readData():\n",
    "    def __init__(self, root=\"D:\\\\code\\\\pycode\\\\DoHtunnel\\\\dataset\\\\finalData\\\\model1\", should_pad=False):\n",
    "        self.root = root\n",
    "        self.should_pad = should_pad\n",
    "        self.pcaps = []\n",
    "        num = 0\n",
    "        for f in os.listdir(root):\n",
    "            full_path = os.path.join(self.root, f)\n",
    "            # drop the few outlier pcaps that were over 50KB\n",
    "            if os.path.getsize(full_path) < 50_000:\n",
    "                self.pcaps.append(full_path)\n",
    "        random.shuffle(self.pcaps)\n",
    "        self.max_len = -1\n",
    "        for pcap in self.pcaps:\n",
    "            # *2 since we are representing them in hex\n",
    "            self.max_len = max(self.max_len, os.path.getsize(pcap))\n",
    "            # drop the few outlier pcaps that were over 50KB\n",
    "            if(self.max_len > 30_000):\n",
    "                self.max_len=30000\n",
    "                break\n",
    "\n",
    "    def __len__(self):\n",
    "        return len(self.pcaps)\n",
    "\n",
    "    def getitem(self, pcapath):\n",
    "        # pcap = self.pcaps[idx]\n",
    "        b=[]\n",
    "        nums=0\n",
    "        with open(pcapath, 'rb') as f:\n",
    "            for i in f.read():\n",
    "                b.append(int(i) / 255)\n",
    "                nums+=1\n",
    "                if(nums>=self.max_len):\n",
    "                    break\n",
    "        if self.should_pad and len(b)<self.max_len:\n",
    "            b += [0] * (self.max_len - len(b))\n",
    "\n",
    "        if pcapath.split('\\\\')[7].split('_')[0] == \"web\":\n",
    "            traffic_type = tf.constant(0)\n",
    "        else:\n",
    "            traffic_type = tf.constant(1)\n",
    "        b = np.expand_dims(b, axis=1)                \n",
    "        return tf.constant(b), traffic_type"
   ]
  },
  {
   "cell_type": "code",
   "execution_count": 58,
   "metadata": {
    "pycharm": {
     "name": "#%%\n"
    }
   },
   "outputs": [
    {
     "name": "stdout",
     "output_type": "stream",
     "text": [
      "18592\n",
      "1000\n",
      "2000\n",
      "3000\n",
      "4000\n",
      "5000\n",
      "6000\n",
      "7000\n",
      "8000\n",
      "9000\n",
      "10000\n",
      "11000\n",
      "12000\n",
      "13000\n",
      "14000\n",
      "15000\n",
      "16000\n",
      "17000\n",
      "18000\n"
     ]
    }
   ],
   "source": [
    "dataset=readData(should_pad=True)\n",
    "\n",
    "dataX=[]\n",
    "dataY=[]\n",
    "print(len(dataset))\n",
    "num=0\n",
    "for pcap in dataset.pcaps:\n",
    "    x,y=dataset.getitem(pcap)\n",
    "    dataX.append(x)\n",
    "    dataY.append(y)\n",
    "    num+=1\n",
    "    if(num%1000==0):\n",
    "        print(num)\n",
    "\n",
    "lengthData=len(dataX)\n",
    "train_rate=0.7\n",
    "bj=int(lengthData*train_rate)\n",
    "x_train = dataX[0:bj]\n",
    "y_train = dataY[0:bj]\n",
    "x_test = dataX[bj:lengthData]\n",
    "y_test = dataY[bj:lengthData]\n"
   ]
  },
  {
   "cell_type": "code",
   "execution_count": 59,
   "metadata": {},
   "outputs": [],
   "source": [
    "lentrain=len(x_train)\n",
    "lentest=len(x_test)"
   ]
  },
  {
   "cell_type": "code",
   "execution_count": 60,
   "metadata": {
    "pycharm": {
     "name": "#%%\n"
    }
   },
   "outputs": [],
   "source": [
    "train_ds = tf.data.Dataset.from_tensor_slices((x_train, y_train)).shuffle(10).batch(32)\n",
    "test_ds = tf.data.Dataset.from_tensor_slices((x_test, y_test)).shuffle(10).batch(32)"
   ]
  },
  {
   "cell_type": "code",
   "execution_count": 61,
   "metadata": {
    "pycharm": {
     "name": "#%%\n"
    }
   },
   "outputs": [],
   "source": [
    "class MyModel(Model):\n",
    "  def __init__(self,maxlen):\n",
    "    super(MyModel, self).__init__()  \n",
    "    self.conv1 = Conv1D(5,3,input_shape=(maxlen,1),activation='relu')\n",
    "    self.flatten = Flatten()\n",
    "    self.d1 = Dense(128, activation='relu')\n",
    "    self.dr2 = Dropout(0.5)    \n",
    "    self.d2 = Dense(2)\n",
    "\n",
    "  def call(self, x):\n",
    "    x = self.conv1(x)\n",
    "    x = self.flatten(x)\n",
    "    x = self.d1(x)\n",
    "    x = self.dr2(x)\n",
    "    return self.d2(x)\n",
    "\n",
    "  @tf.function\n",
    "  def serve(self,x):\n",
    "    x = self.conv1(x)\n",
    "    x = self.flatten(x)\n",
    "    x = self.d1(x)\n",
    "    x = self.dr2(x)\n",
    "    return self.d2(x)\n",
    "\n",
    "model = MyModel(dataset.max_len)"
   ]
  },
  {
   "cell_type": "code",
   "execution_count": 62,
   "metadata": {
    "pycharm": {
     "name": "#%%\n"
    }
   },
   "outputs": [],
   "source": [
    "#交叉熵\n",
    "loss_object = tf.keras.losses.SparseCategoricalCrossentropy(from_logits=True)\n",
    "\n",
    "optimizer = tf.keras.optimizers.Adam()"
   ]
  },
  {
   "cell_type": "code",
   "execution_count": 63,
   "metadata": {
    "pycharm": {
     "name": "#%%\n"
    }
   },
   "outputs": [],
   "source": [
    "train_loss = tf.keras.metrics.Mean(name='train_loss')\n",
    "train_accuracy = tf.keras.metrics.SparseCategoricalAccuracy(name='train_accuracy')\n",
    "train_falsePositives = tf.keras.metrics.FalsePositives(name='train_falsePositives')\n",
    "train_falseNegatives = tf.keras.metrics.FalseNegatives(name='train_falseNegatives')\n",
    "\n",
    "test_loss = tf.keras.metrics.Mean(name='test_loss')\n",
    "test_accuracy = tf.keras.metrics.SparseCategoricalAccuracy(name='test_accuracy')\n",
    "test_falsePositives = tf.keras.metrics.FalsePositives(name='test_falsePositives')\n",
    "test_falseNegatives = tf.keras.metrics.FalseNegatives(name='test_falseNegatives')"
   ]
  },
  {
   "cell_type": "code",
   "execution_count": 64,
   "metadata": {
    "pycharm": {
     "name": "#%%\n"
    }
   },
   "outputs": [],
   "source": [
    "@tf.function\n",
    "def train_step(lines, labels):\n",
    "  with tf.GradientTape() as tape:\n",
    "    # training=True is only needed if there are layers with different\n",
    "    # behavior during training versus inference (e.g. Dropout).\n",
    "    predictions = model(lines, training=True)\n",
    "    loss = loss_object(labels, predictions)\n",
    "  gradients = tape.gradient(loss, model.trainable_variables)\n",
    "  optimizer.apply_gradients(zip(gradients, model.trainable_variables))\n",
    "\n",
    "  train_loss(loss)\n",
    "  train_accuracy(labels, predictions)\n",
    "  train_falsePositives(labels, tf.argmax(predictions, axis=1))\n",
    "  train_falseNegatives(labels, tf.argmax(predictions, axis=1))"
   ]
  },
  {
   "cell_type": "code",
   "execution_count": 65,
   "metadata": {
    "pycharm": {
     "name": "#%%\n"
    }
   },
   "outputs": [],
   "source": [
    "@tf.function\n",
    "def test_step(lines, labels):\n",
    "  # training=False is only needed if there are layers with different\n",
    "  # behavior during training versus inference (e.g. Dropout).\n",
    "  predictions = model(lines, training=False)\n",
    "  t_loss = loss_object(labels, predictions)\n",
    "\n",
    "  test_loss(t_loss)\n",
    "  test_accuracy(labels, predictions)\n",
    "  test_falsePositives(labels, tf.argmax(predictions, axis=1))\n",
    "  test_falseNegatives(labels, tf.argmax(predictions, axis=1))"
   ]
  },
  {
   "cell_type": "code",
   "execution_count": 66,
   "metadata": {
    "pycharm": {
     "name": "#%%\n"
    }
   },
   "outputs": [],
   "source": [
    "tf.config.experimental_run_functions_eagerly(True)"
   ]
  },
  {
   "cell_type": "code",
   "execution_count": 67,
   "metadata": {
    "pycharm": {
     "name": "#%%\n"
    }
   },
   "outputs": [
    {
     "name": "stdout",
     "output_type": "stream",
     "text": [
      "WARNING:tensorflow:Layer my_model_4 is casting an input tensor from dtype float64 to the layer's dtype of float32, which is new behavior in TensorFlow 2.  The layer has dtype float32 because its dtype defaults to floatx.\n",
      "\n",
      "If you intended to run this layer in float32, you can safely ignore this warning. If in doubt, this warning is likely only an issue if you are porting a TensorFlow 1.X model to TensorFlow 2.\n",
      "\n",
      "To change all layers to have dtype float64 by default, call `tf.keras.backend.set_floatx('float64')`. To change just this layer, pass dtype='float64' to the layer constructor. If you are the author of this layer, you can disable autocasting by passing autocast=False to the base Layer constructor.\n",
      "\n",
      "100\n",
      "200\n",
      "300\n",
      "400\n",
      "Epoch 1, Loss: 0.5382095575332642, Accuracy: 82.403564453125, FalsePositives: 0.10288919508457184, FalseNegatives: 0.07307515293359756, Test Loss: 0.23447586596012115, Test Accuracy: 93.65364074707031, Test FalsePositives: 0.043922554701566696,Test FalseNegatives: 0.019541054964065552,\n",
      "100\n",
      "200\n",
      "300\n",
      "400\n",
      "Epoch 2, Loss: 0.2559759020805359, Accuracy: 87.55186462402344, FalsePositives: 0.15929000079631805, FalseNegatives: 0.1411556750535965, Test Loss: 0.13808800280094147, Test Accuracy: 94.85478210449219, Test FalsePositives: 0.08336321264505386,Test FalseNegatives: 0.031552527099847794,\n",
      "100\n",
      "200\n",
      "300\n",
      "400\n",
      "Epoch 3, Loss: 0.19279968738555908, Accuracy: 91.48609161376953, FalsePositives: 0.22145381569862366, FalseNegatives: 0.16413094103336334, Test Loss: 0.17517583072185516, Test Accuracy: 93.58192443847656, Test FalsePositives: 0.14449623227119446,Test FalseNegatives: 0.03460021689534187,\n"
     ]
    }
   ],
   "source": [
    "EPOCHS = 3\n",
    "\n",
    "for epoch in range(EPOCHS):\n",
    "  # Reset the metrics at the start of the next epoch\n",
    "  train_loss.reset_states()\n",
    "  train_accuracy.reset_states()\n",
    "  test_loss.reset_states()\n",
    "  test_accuracy.reset_states()\n",
    "\n",
    "  js=0\n",
    "  for lines, labels in train_ds:\n",
    "    js+=1\n",
    "    if(js%100==0):\n",
    "        print(js)\n",
    "    train_step(lines, labels)\n",
    "\n",
    "  for test_lines, test_labels in test_ds:\n",
    "    test_step(test_lines, test_labels)\n",
    "\n",
    "  print(\n",
    "    f'Epoch {epoch + 1}, '\n",
    "    f'Loss: {train_loss.result()}, '\n",
    "    f'Accuracy: {train_accuracy.result() * 100}, '\n",
    "    f'FalsePositives: {train_falsePositives.result()/lentrain}, '\n",
    "    f'FalseNegatives: {train_falseNegatives.result()/lentrain}, '\n",
    "    f'Test Loss: {test_loss.result()}, '\n",
    "    f'Test Accuracy: {test_accuracy.result() * 100}, '\n",
    "    f'Test FalsePositives: {test_falsePositives.result()/lentest},'\n",
    "    f'Test FalseNegatives: {test_falseNegatives.result()/lentest},'\n",
    "  )"
   ]
  },
  {
   "cell_type": "code",
   "execution_count": 45,
   "metadata": {
    "pycharm": {
     "name": "#%%\n"
    }
   },
   "outputs": [
    {
     "name": "stdout",
     "output_type": "stream",
     "text": [
      "INFO:tensorflow:Assets written to: D:\\code\\pycode\\DoHtunnel\\save_model1\\assets\n"
     ]
    }
   ],
   "source": [
    "# 保存模型\n",
    "signature = {\n",
    "    'my_predict': model.serve.get_concrete_function(tf.TensorSpec(shape=[None,30000, 1], dtype=tf.float64)),\n",
    "}\n",
    "tf.saved_model.save(model, 'D:\\\\code\\\\pycode\\\\DoHtunnel\\\\save_model1',signatures=signature)\n"
   ]
  }
 ],
 "metadata": {
  "kernelspec": {
   "display_name": "datamining",
   "language": "python",
   "name": "datamining"
  },
  "language_info": {
   "codemirror_mode": {
    "name": "ipython",
    "version": 3
   },
   "file_extension": ".py",
   "mimetype": "text/x-python",
   "name": "python",
   "nbconvert_exporter": "python",
   "pygments_lexer": "ipython3",
   "version": "3.7.11"
  }
 },
 "nbformat": 4,
 "nbformat_minor": 1
}